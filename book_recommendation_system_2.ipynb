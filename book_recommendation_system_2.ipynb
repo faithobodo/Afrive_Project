{
  "nbformat": 4,
  "nbformat_minor": 0,
  "metadata": {
    "colab": {
      "name": "book_recommendation_system_2.ipynb",
      "provenance": []
    },
    "kernelspec": {
      "name": "python3",
      "display_name": "Python 3"
    },
    "language_info": {
      "name": "python"
    }
  },
  "cells": [
    {
      "cell_type": "code",
      "source": [
        "#import libraries\n",
        "import pandas as pd\n",
        "import pickle\n",
        "df= pd.read_csv('/content/df_t (4).csv')\n",
        "model = pickle.load(open('/content/correlation.pkl','rb'))"
      ],
      "metadata": {
        "id": "N3nsYvktNy8r"
      },
      "execution_count": 3,
      "outputs": []
    },
    {
      "cell_type": "code",
      "source": [
        "# df"
      ],
      "metadata": {
        "id": "70gWt7tdOTNc"
      },
      "execution_count": 5,
      "outputs": []
    },
    {
      "cell_type": "code",
      "execution_count": null,
      "metadata": {
        "colab": {
          "base_uri": "https://localhost:8080/"
        },
        "id": "9dWKWIdPNt0V",
        "outputId": "c10bcb84-c7c6-495c-b61b-3bf9dbc9dac8"
      },
      "outputs": [
        {
          "output_type": "stream",
          "name": "stdout",
          "text": [
            "Books you may also like\n"
          ]
        },
        {
          "output_type": "execute_result",
          "data": {
            "text/plain": [
              "[17, 19, 38, 43, 52, 53, 61, 67, 70, 77, 79, 80, 81, 83, 93, 94, 100]"
            ]
          },
          "metadata": {},
          "execution_count": 6
        }
      ],
      "source": [
        "i=df.index[40]\n",
        "product_names = list(df.index)\n",
        "product_ID = product_names.index(i)\n",
        "product_ID\n",
        "correlation_product_ID = model[product_ID]\n",
        "correlation_product_ID.shape\n",
        "Recommend = list(df.index[correlation_product_ID > 0.020])\n",
        "Recommend.remove(i) \n",
        "print('Books you may also like')\n",
        "Recommend[0:20]"
      ]
    },
    {
      "cell_type": "code",
      "source": [
        "df.iloc[Recommend[0:20]].Book_Title.values"
      ],
      "metadata": {
        "colab": {
          "base_uri": "https://localhost:8080/"
        },
        "id": "_w-anqrMKdcP",
        "outputId": "55b8a117-39bd-41ab-e74b-41c3a2fd4624"
      },
      "execution_count": null,
      "outputs": [
        {
          "output_type": "execute_result",
          "data": {
            "text/plain": [
              "array(['Climbié\\tSegiers', 'Cry the beloved country',\n",
              "       \"L'aventure ambiguë\", 'La vie et demie',\n",
              "       'Les soleils des indépendances', 'Life and times of Michael K',\n",
              "       'Nervous Conditions',\n",
              "       'Ogboju ode nimu Igbo irunmale (English version)', 'Riwan',\n",
              "       'Terra sonâmbula\\tCaminho', 'The Cairo Trilogy',\n",
              "       'The Cairo trilogy', 'The beautiful ones are not yet born',\n",
              "       'The famished road', 'Ualalapi', 'Un attieké pour Elgass',\n",
              "       '\\xa0Une si longue lettre,'], dtype=object)"
            ]
          },
          "metadata": {},
          "execution_count": 8
        }
      ]
    }
  ]
}